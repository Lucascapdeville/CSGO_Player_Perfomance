{
 "cells": [
  {
   "cell_type": "markdown",
   "metadata": {},
   "source": [
    "# Import libraries\n"
   ]
  },
  {
   "cell_type": "code",
   "execution_count": 1,
   "metadata": {},
   "outputs": [],
   "source": [
    "import pandas as pd"
   ]
  },
  {
   "cell_type": "markdown",
   "metadata": {},
   "source": [
    "# import csv"
   ]
  },
  {
   "cell_type": "code",
   "execution_count": 13,
   "metadata": {},
   "outputs": [],
   "source": [
    "players_stats = pd.read_csv('data/players_stats_raw.csv',sep = ';')\n",
    "players_stats.drop(axis=1,columns='Unnamed: 0',inplace=True)"
   ]
  },
  {
   "cell_type": "markdown",
   "metadata": {},
   "source": [
    "# Data cleaning"
   ]
  },
  {
   "cell_type": "markdown",
   "metadata": {},
   "source": [
    "## Collumns names"
   ]
  },
  {
   "cell_type": "code",
   "execution_count": 14,
   "metadata": {},
   "outputs": [],
   "source": [
    "players_stats.columns = players_stats.columns.str.lower()"
   ]
  },
  {
   "cell_type": "code",
   "execution_count": 15,
   "metadata": {},
   "outputs": [
    {
     "data": {
      "text/html": [
       "<div>\n",
       "<style scoped>\n",
       "    .dataframe tbody tr th:only-of-type {\n",
       "        vertical-align: middle;\n",
       "    }\n",
       "\n",
       "    .dataframe tbody tr th {\n",
       "        vertical-align: top;\n",
       "    }\n",
       "\n",
       "    .dataframe thead th {\n",
       "        text-align: right;\n",
       "    }\n",
       "</style>\n",
       "<table border=\"1\" class=\"dataframe\">\n",
       "  <thead>\n",
       "    <tr style=\"text-align: right;\">\n",
       "      <th></th>\n",
       "      <th>date</th>\n",
       "      <th>player team</th>\n",
       "      <th>opponent</th>\n",
       "      <th>t1</th>\n",
       "      <th>t2</th>\n",
       "      <th>map</th>\n",
       "      <th>k - d</th>\n",
       "      <th>+/-</th>\n",
       "      <th>rating2.0</th>\n",
       "      <th>player</th>\n",
       "      <th>event_type</th>\n",
       "      <th>event_tier</th>\n",
       "    </tr>\n",
       "  </thead>\n",
       "  <tbody>\n",
       "    <tr>\n",
       "      <th>0</th>\n",
       "      <td>5/9/19</td>\n",
       "      <td>Vitality (10)</td>\n",
       "      <td>AVANGAR (16)</td>\n",
       "      <td>d2</td>\n",
       "      <td>20 - 17</td>\n",
       "      <td>3</td>\n",
       "      <td>1.04</td>\n",
       "      <td>NaN</td>\n",
       "      <td>NaN</td>\n",
       "      <td>11893/zywoo</td>\n",
       "      <td>major</td>\n",
       "      <td>S</td>\n",
       "    </tr>\n",
       "    <tr>\n",
       "      <th>1</th>\n",
       "      <td>5/9/19</td>\n",
       "      <td>Vitality (16)</td>\n",
       "      <td>AVANGAR (11)</td>\n",
       "      <td>inf</td>\n",
       "      <td>28 - 12</td>\n",
       "      <td>16</td>\n",
       "      <td>1.63</td>\n",
       "      <td>NaN</td>\n",
       "      <td>NaN</td>\n",
       "      <td>11893/zywoo</td>\n",
       "      <td>major</td>\n",
       "      <td>S</td>\n",
       "    </tr>\n",
       "    <tr>\n",
       "      <th>2</th>\n",
       "      <td>5/9/19</td>\n",
       "      <td>Vitality (9)</td>\n",
       "      <td>AVANGAR (16)</td>\n",
       "      <td>mrg</td>\n",
       "      <td>12 - 18</td>\n",
       "      <td>-6</td>\n",
       "      <td>0.90</td>\n",
       "      <td>NaN</td>\n",
       "      <td>NaN</td>\n",
       "      <td>11893/zywoo</td>\n",
       "      <td>major</td>\n",
       "      <td>S</td>\n",
       "    </tr>\n",
       "    <tr>\n",
       "      <th>3</th>\n",
       "      <td>31/8/19</td>\n",
       "      <td>Vitality (16)</td>\n",
       "      <td>MOUZ (10)</td>\n",
       "      <td>mrg</td>\n",
       "      <td>21 - 17</td>\n",
       "      <td>4</td>\n",
       "      <td>1.52</td>\n",
       "      <td>NaN</td>\n",
       "      <td>NaN</td>\n",
       "      <td>11893/zywoo</td>\n",
       "      <td>major</td>\n",
       "      <td>S</td>\n",
       "    </tr>\n",
       "    <tr>\n",
       "      <th>4</th>\n",
       "      <td>31/8/19</td>\n",
       "      <td>Vitality (16)</td>\n",
       "      <td>MOUZ (5)</td>\n",
       "      <td>vtg</td>\n",
       "      <td>19 - 12</td>\n",
       "      <td>7</td>\n",
       "      <td>1.44</td>\n",
       "      <td>NaN</td>\n",
       "      <td>NaN</td>\n",
       "      <td>11893/zywoo</td>\n",
       "      <td>major</td>\n",
       "      <td>S</td>\n",
       "    </tr>\n",
       "    <tr>\n",
       "      <th>...</th>\n",
       "      <td>...</td>\n",
       "      <td>...</td>\n",
       "      <td>...</td>\n",
       "      <td>...</td>\n",
       "      <td>...</td>\n",
       "      <td>...</td>\n",
       "      <td>...</td>\n",
       "      <td>...</td>\n",
       "      <td>...</td>\n",
       "      <td>...</td>\n",
       "      <td>...</td>\n",
       "      <td>...</td>\n",
       "    </tr>\n",
       "    <tr>\n",
       "      <th>56467</th>\n",
       "      <td>22/3/19</td>\n",
       "      <td>Lucid Dream (16)</td>\n",
       "      <td>NASR (1)</td>\n",
       "      <td>d2</td>\n",
       "      <td>9 - 8</td>\n",
       "      <td>1</td>\n",
       "      <td>1.17</td>\n",
       "      <td>NaN</td>\n",
       "      <td>NaN</td>\n",
       "      <td>13461/wannafly</td>\n",
       "      <td>online</td>\n",
       "      <td>B</td>\n",
       "    </tr>\n",
       "    <tr>\n",
       "      <th>56468</th>\n",
       "      <td>22/3/19</td>\n",
       "      <td>Lucid Dream (16)</td>\n",
       "      <td>NASR (9)</td>\n",
       "      <td>nuke</td>\n",
       "      <td>23 - 11</td>\n",
       "      <td>12</td>\n",
       "      <td>1.60</td>\n",
       "      <td>NaN</td>\n",
       "      <td>NaN</td>\n",
       "      <td>13461/wannafly</td>\n",
       "      <td>online</td>\n",
       "      <td>B</td>\n",
       "    </tr>\n",
       "    <tr>\n",
       "      <th>56469</th>\n",
       "      <td>22/3/19</td>\n",
       "      <td>Lucid Dream (8)</td>\n",
       "      <td>NASR (16)</td>\n",
       "      <td>ovp</td>\n",
       "      <td>9 - 17</td>\n",
       "      <td>-8</td>\n",
       "      <td>0.79</td>\n",
       "      <td>NaN</td>\n",
       "      <td>NaN</td>\n",
       "      <td>13461/wannafly</td>\n",
       "      <td>online</td>\n",
       "      <td>B</td>\n",
       "    </tr>\n",
       "    <tr>\n",
       "      <th>56470</th>\n",
       "      <td>22/3/19</td>\n",
       "      <td>Lucid Dream (16)</td>\n",
       "      <td>Entity (1)</td>\n",
       "      <td>mrg</td>\n",
       "      <td>13 - 5</td>\n",
       "      <td>8</td>\n",
       "      <td>1.23</td>\n",
       "      <td>NaN</td>\n",
       "      <td>NaN</td>\n",
       "      <td>13461/wannafly</td>\n",
       "      <td>online</td>\n",
       "      <td>B</td>\n",
       "    </tr>\n",
       "    <tr>\n",
       "      <th>56471</th>\n",
       "      <td>22/3/19</td>\n",
       "      <td>Lucid Dream (16)</td>\n",
       "      <td>Entity (5)</td>\n",
       "      <td>nuke</td>\n",
       "      <td>18 - 11</td>\n",
       "      <td>7</td>\n",
       "      <td>1.54</td>\n",
       "      <td>NaN</td>\n",
       "      <td>NaN</td>\n",
       "      <td>13461/wannafly</td>\n",
       "      <td>online</td>\n",
       "      <td>B</td>\n",
       "    </tr>\n",
       "  </tbody>\n",
       "</table>\n",
       "<p>56472 rows × 12 columns</p>\n",
       "</div>"
      ],
      "text/plain": [
       "          date       player team      opponent    t1       t2  map  k - d  \\\n",
       "0       5/9/19     Vitality (10)  AVANGAR (16)    d2  20 - 17    3   1.04   \n",
       "1       5/9/19     Vitality (16)  AVANGAR (11)   inf  28 - 12   16   1.63   \n",
       "2       5/9/19      Vitality (9)  AVANGAR (16)   mrg  12 - 18   -6   0.90   \n",
       "3      31/8/19     Vitality (16)     MOUZ (10)   mrg  21 - 17    4   1.52   \n",
       "4      31/8/19     Vitality (16)      MOUZ (5)   vtg  19 - 12    7   1.44   \n",
       "...        ...               ...           ...   ...      ...  ...    ...   \n",
       "56467  22/3/19  Lucid Dream (16)      NASR (1)    d2    9 - 8    1   1.17   \n",
       "56468  22/3/19  Lucid Dream (16)      NASR (9)  nuke  23 - 11   12   1.60   \n",
       "56469  22/3/19   Lucid Dream (8)     NASR (16)   ovp   9 - 17   -8   0.79   \n",
       "56470  22/3/19  Lucid Dream (16)    Entity (1)   mrg   13 - 5    8   1.23   \n",
       "56471  22/3/19  Lucid Dream (16)    Entity (5)  nuke  18 - 11    7   1.54   \n",
       "\n",
       "       +/-  rating2.0          player event_type event_tier  \n",
       "0      NaN        NaN     11893/zywoo      major          S  \n",
       "1      NaN        NaN     11893/zywoo      major          S  \n",
       "2      NaN        NaN     11893/zywoo      major          S  \n",
       "3      NaN        NaN     11893/zywoo      major          S  \n",
       "4      NaN        NaN     11893/zywoo      major          S  \n",
       "...    ...        ...             ...        ...        ...  \n",
       "56467  NaN        NaN  13461/wannafly     online          B  \n",
       "56468  NaN        NaN  13461/wannafly     online          B  \n",
       "56469  NaN        NaN  13461/wannafly     online          B  \n",
       "56470  NaN        NaN  13461/wannafly     online          B  \n",
       "56471  NaN        NaN  13461/wannafly     online          B  \n",
       "\n",
       "[56472 rows x 12 columns]"
      ]
     },
     "execution_count": 15,
     "metadata": {},
     "output_type": "execute_result"
    }
   ],
   "source": [
    "players_stats"
   ]
  },
  {
   "cell_type": "markdown",
   "metadata": {},
   "source": [
    "## Genaral cleaning"
   ]
  },
  {
   "cell_type": "code",
   "execution_count": 16,
   "metadata": {},
   "outputs": [],
   "source": [
    "players_stats[['player_team','s1']] = players_stats['player team'].str.split('(',1,expand=True)\n",
    "players_stats[['opponent','s2']] = players_stats['opponent'].str.split('(',1,expand=True)\n",
    "players_stats[['id','player']] = players_stats['player'].str.split('/',1,expand=True)\n",
    "players_stats['map'] = players_stats['t1']\n",
    "players_stats['rating2.0'] = players_stats['k - d']\n",
    "players_stats.drop(['player team','t1','t2','k - d','+/-'],axis = 1, inplace = True)"
   ]
  },
  {
   "cell_type": "markdown",
   "metadata": {},
   "source": [
    "## Rearange collumns"
   ]
  },
  {
   "cell_type": "code",
   "execution_count": 17,
   "metadata": {},
   "outputs": [],
   "source": [
    "players_stats = players_stats[['id','player','player_team','s1','opponent','s2','rating2.0','map','date','event_type','event_tier']]"
   ]
  },
  {
   "cell_type": "code",
   "execution_count": 22,
   "metadata": {},
   "outputs": [
    {
     "name": "stdout",
     "output_type": "stream",
     "text": [
      "id                      int32\n",
      "player                 object\n",
      "player_team            object\n",
      "s1                      int32\n",
      "opponent               object\n",
      "s2                      int32\n",
      "rating2.0             float64\n",
      "map                    object\n",
      "date           datetime64[ns]\n",
      "event_type             object\n",
      "event_tier             object\n",
      "dtype: object\n"
     ]
    },
    {
     "data": {
      "text/html": [
       "<div>\n",
       "<style scoped>\n",
       "    .dataframe tbody tr th:only-of-type {\n",
       "        vertical-align: middle;\n",
       "    }\n",
       "\n",
       "    .dataframe tbody tr th {\n",
       "        vertical-align: top;\n",
       "    }\n",
       "\n",
       "    .dataframe thead th {\n",
       "        text-align: right;\n",
       "    }\n",
       "</style>\n",
       "<table border=\"1\" class=\"dataframe\">\n",
       "  <thead>\n",
       "    <tr style=\"text-align: right;\">\n",
       "      <th></th>\n",
       "      <th>id</th>\n",
       "      <th>player</th>\n",
       "      <th>player_team</th>\n",
       "      <th>s1</th>\n",
       "      <th>opponent</th>\n",
       "      <th>s2</th>\n",
       "      <th>rating2.0</th>\n",
       "      <th>map</th>\n",
       "      <th>date</th>\n",
       "      <th>event_type</th>\n",
       "      <th>event_tier</th>\n",
       "    </tr>\n",
       "  </thead>\n",
       "  <tbody>\n",
       "    <tr>\n",
       "      <th>0</th>\n",
       "      <td>11893</td>\n",
       "      <td>zywoo</td>\n",
       "      <td>Vitality</td>\n",
       "      <td>10</td>\n",
       "      <td>AVANGAR</td>\n",
       "      <td>16</td>\n",
       "      <td>1.04</td>\n",
       "      <td>d2</td>\n",
       "      <td>2019-05-09</td>\n",
       "      <td>major</td>\n",
       "      <td>S</td>\n",
       "    </tr>\n",
       "    <tr>\n",
       "      <th>1</th>\n",
       "      <td>11893</td>\n",
       "      <td>zywoo</td>\n",
       "      <td>Vitality</td>\n",
       "      <td>16</td>\n",
       "      <td>AVANGAR</td>\n",
       "      <td>11</td>\n",
       "      <td>1.63</td>\n",
       "      <td>inf</td>\n",
       "      <td>2019-05-09</td>\n",
       "      <td>major</td>\n",
       "      <td>S</td>\n",
       "    </tr>\n",
       "    <tr>\n",
       "      <th>2</th>\n",
       "      <td>11893</td>\n",
       "      <td>zywoo</td>\n",
       "      <td>Vitality</td>\n",
       "      <td>9</td>\n",
       "      <td>AVANGAR</td>\n",
       "      <td>16</td>\n",
       "      <td>0.90</td>\n",
       "      <td>mrg</td>\n",
       "      <td>2019-05-09</td>\n",
       "      <td>major</td>\n",
       "      <td>S</td>\n",
       "    </tr>\n",
       "    <tr>\n",
       "      <th>3</th>\n",
       "      <td>11893</td>\n",
       "      <td>zywoo</td>\n",
       "      <td>Vitality</td>\n",
       "      <td>16</td>\n",
       "      <td>MOUZ</td>\n",
       "      <td>10</td>\n",
       "      <td>1.52</td>\n",
       "      <td>mrg</td>\n",
       "      <td>2019-08-31</td>\n",
       "      <td>major</td>\n",
       "      <td>S</td>\n",
       "    </tr>\n",
       "    <tr>\n",
       "      <th>4</th>\n",
       "      <td>11893</td>\n",
       "      <td>zywoo</td>\n",
       "      <td>Vitality</td>\n",
       "      <td>16</td>\n",
       "      <td>MOUZ</td>\n",
       "      <td>5</td>\n",
       "      <td>1.44</td>\n",
       "      <td>vtg</td>\n",
       "      <td>2019-08-31</td>\n",
       "      <td>major</td>\n",
       "      <td>S</td>\n",
       "    </tr>\n",
       "  </tbody>\n",
       "</table>\n",
       "</div>"
      ],
      "text/plain": [
       "      id player player_team  s1  opponent  s2  rating2.0  map       date  \\\n",
       "0  11893  zywoo   Vitality   10  AVANGAR   16       1.04   d2 2019-05-09   \n",
       "1  11893  zywoo   Vitality   16  AVANGAR   11       1.63  inf 2019-05-09   \n",
       "2  11893  zywoo   Vitality    9  AVANGAR   16       0.90  mrg 2019-05-09   \n",
       "3  11893  zywoo   Vitality   16     MOUZ   10       1.52  mrg 2019-08-31   \n",
       "4  11893  zywoo   Vitality   16     MOUZ    5       1.44  vtg 2019-08-31   \n",
       "\n",
       "  event_type event_tier  \n",
       "0      major          S  \n",
       "1      major          S  \n",
       "2      major          S  \n",
       "3      major          S  \n",
       "4      major          S  "
      ]
     },
     "execution_count": 22,
     "metadata": {},
     "output_type": "execute_result"
    }
   ],
   "source": [
    "print(players_stats.dtypes)\n",
    "players_stats.head()"
   ]
  },
  {
   "cell_type": "markdown",
   "metadata": {},
   "source": [
    "## Clean S1 and S2 collumns"
   ]
  },
  {
   "cell_type": "markdown",
   "metadata": {},
   "source": [
    "### remove ')'"
   ]
  },
  {
   "cell_type": "code",
   "execution_count": 19,
   "metadata": {},
   "outputs": [],
   "source": [
    "players_stats['s1'] = players_stats['s1'].str[:-1]\n",
    "players_stats['s2'] = players_stats['s2'].str[:-1]"
   ]
  },
  {
   "cell_type": "markdown",
   "metadata": {},
   "source": [
    "## change type"
   ]
  },
  {
   "cell_type": "code",
   "execution_count": 20,
   "metadata": {},
   "outputs": [],
   "source": [
    "players_stats = players_stats.astype({'id':int,'s1':int,'s2':int})\n",
    "players_stats['date'] = pd.to_datetime(players_stats['date'])"
   ]
  },
  {
   "cell_type": "markdown",
   "metadata": {},
   "source": [
    "## Clean str collumns"
   ]
  },
  {
   "cell_type": "code",
   "execution_count": 26,
   "metadata": {},
   "outputs": [],
   "source": [
    "players_stats['player_team']=players_stats['player_team'].str.strip()\n",
    "players_stats['opponent']=players_stats['opponent'].str.strip()\n",
    "players_stats['map']=players_stats['map'].str.strip()\n",
    "players_stats['event_type']=players_stats['event_type'].str.strip()\n",
    "players_stats['event_tier']=players_stats['event_tier'].str.strip()\n"
   ]
  },
  {
   "cell_type": "markdown",
   "metadata": {},
   "source": [
    "# Export to csv"
   ]
  },
  {
   "cell_type": "code",
   "execution_count": 29,
   "metadata": {},
   "outputs": [],
   "source": [
    "players_stats.to_csv('data/players_stats.csv',sep = ';')"
   ]
  }
 ],
 "metadata": {
  "kernelspec": {
   "display_name": "Python 3.9.12 ('base')",
   "language": "python",
   "name": "python3"
  },
  "language_info": {
   "codemirror_mode": {
    "name": "ipython",
    "version": 3
   },
   "file_extension": ".py",
   "mimetype": "text/x-python",
   "name": "python",
   "nbconvert_exporter": "python",
   "pygments_lexer": "ipython3",
   "version": "3.9.12"
  },
  "orig_nbformat": 4,
  "vscode": {
   "interpreter": {
    "hash": "1e41d4e4325ce7342a00e57a53d955cd4d4808c2e7826870199a24ef7be9659b"
   }
  }
 },
 "nbformat": 4,
 "nbformat_minor": 2
}
