{
 "cells": [
  {
   "cell_type": "markdown",
   "metadata": {},
   "source": [
    "# Import libraries\n"
   ]
  },
  {
   "cell_type": "code",
   "execution_count": 248,
   "metadata": {},
   "outputs": [],
   "source": [
    "import pandas as pd"
   ]
  },
  {
   "cell_type": "markdown",
   "metadata": {},
   "source": [
    "# Data cleaning player stats"
   ]
  },
  {
   "cell_type": "markdown",
   "metadata": {},
   "source": [
    "# import csv"
   ]
  },
  {
   "cell_type": "code",
   "execution_count": 249,
   "metadata": {},
   "outputs": [],
   "source": [
    "players_stats = pd.read_csv('data/players_stats_raw.csv',sep = ';')\n",
    "players_stats.drop(axis=1,columns='Unnamed: 0',inplace=True)"
   ]
  },
  {
   "cell_type": "code",
   "execution_count": 278,
   "metadata": {},
   "outputs": [
    {
     "data": {
      "text/html": [
       "<div>\n",
       "<style scoped>\n",
       "    .dataframe tbody tr th:only-of-type {\n",
       "        vertical-align: middle;\n",
       "    }\n",
       "\n",
       "    .dataframe tbody tr th {\n",
       "        vertical-align: top;\n",
       "    }\n",
       "\n",
       "    .dataframe thead th {\n",
       "        text-align: right;\n",
       "    }\n",
       "</style>\n",
       "<table border=\"1\" class=\"dataframe\">\n",
       "  <thead>\n",
       "    <tr style=\"text-align: right;\">\n",
       "      <th></th>\n",
       "      <th>Unnamed: 0</th>\n",
       "      <th>Date</th>\n",
       "      <th>Player team</th>\n",
       "      <th>Opponent</th>\n",
       "      <th>T1</th>\n",
       "      <th>T2</th>\n",
       "      <th>Map</th>\n",
       "      <th>K - D</th>\n",
       "      <th>+/-</th>\n",
       "      <th>Rating2.0</th>\n",
       "      <th>player</th>\n",
       "      <th>event_type</th>\n",
       "      <th>event_tier</th>\n",
       "    </tr>\n",
       "  </thead>\n",
       "  <tbody>\n",
       "    <tr>\n",
       "      <th>0</th>\n",
       "      <td>0</td>\n",
       "      <td>5/9/19</td>\n",
       "      <td>Vitality (10)</td>\n",
       "      <td>AVANGAR (16)</td>\n",
       "      <td>d2</td>\n",
       "      <td>20 - 17</td>\n",
       "      <td>3</td>\n",
       "      <td>1.04</td>\n",
       "      <td>NaN</td>\n",
       "      <td>NaN</td>\n",
       "      <td>11893/zywoo</td>\n",
       "      <td>major</td>\n",
       "      <td>S</td>\n",
       "    </tr>\n",
       "    <tr>\n",
       "      <th>1</th>\n",
       "      <td>1</td>\n",
       "      <td>5/9/19</td>\n",
       "      <td>Vitality (16)</td>\n",
       "      <td>AVANGAR (11)</td>\n",
       "      <td>inf</td>\n",
       "      <td>28 - 12</td>\n",
       "      <td>16</td>\n",
       "      <td>1.63</td>\n",
       "      <td>NaN</td>\n",
       "      <td>NaN</td>\n",
       "      <td>11893/zywoo</td>\n",
       "      <td>major</td>\n",
       "      <td>S</td>\n",
       "    </tr>\n",
       "    <tr>\n",
       "      <th>2</th>\n",
       "      <td>2</td>\n",
       "      <td>5/9/19</td>\n",
       "      <td>Vitality (9)</td>\n",
       "      <td>AVANGAR (16)</td>\n",
       "      <td>mrg</td>\n",
       "      <td>12 - 18</td>\n",
       "      <td>-6</td>\n",
       "      <td>0.90</td>\n",
       "      <td>NaN</td>\n",
       "      <td>NaN</td>\n",
       "      <td>11893/zywoo</td>\n",
       "      <td>major</td>\n",
       "      <td>S</td>\n",
       "    </tr>\n",
       "    <tr>\n",
       "      <th>3</th>\n",
       "      <td>3</td>\n",
       "      <td>31/8/19</td>\n",
       "      <td>Vitality (16)</td>\n",
       "      <td>MOUZ (10)</td>\n",
       "      <td>mrg</td>\n",
       "      <td>21 - 17</td>\n",
       "      <td>4</td>\n",
       "      <td>1.52</td>\n",
       "      <td>NaN</td>\n",
       "      <td>NaN</td>\n",
       "      <td>11893/zywoo</td>\n",
       "      <td>major</td>\n",
       "      <td>S</td>\n",
       "    </tr>\n",
       "    <tr>\n",
       "      <th>4</th>\n",
       "      <td>4</td>\n",
       "      <td>31/8/19</td>\n",
       "      <td>Vitality (16)</td>\n",
       "      <td>MOUZ (5)</td>\n",
       "      <td>vtg</td>\n",
       "      <td>19 - 12</td>\n",
       "      <td>7</td>\n",
       "      <td>1.44</td>\n",
       "      <td>NaN</td>\n",
       "      <td>NaN</td>\n",
       "      <td>11893/zywoo</td>\n",
       "      <td>major</td>\n",
       "      <td>S</td>\n",
       "    </tr>\n",
       "    <tr>\n",
       "      <th>...</th>\n",
       "      <td>...</td>\n",
       "      <td>...</td>\n",
       "      <td>...</td>\n",
       "      <td>...</td>\n",
       "      <td>...</td>\n",
       "      <td>...</td>\n",
       "      <td>...</td>\n",
       "      <td>...</td>\n",
       "      <td>...</td>\n",
       "      <td>...</td>\n",
       "      <td>...</td>\n",
       "      <td>...</td>\n",
       "      <td>...</td>\n",
       "    </tr>\n",
       "    <tr>\n",
       "      <th>56467</th>\n",
       "      <td>90</td>\n",
       "      <td>22/3/19</td>\n",
       "      <td>Lucid Dream (16)</td>\n",
       "      <td>NASR (1)</td>\n",
       "      <td>d2</td>\n",
       "      <td>9 - 8</td>\n",
       "      <td>1</td>\n",
       "      <td>1.17</td>\n",
       "      <td>NaN</td>\n",
       "      <td>NaN</td>\n",
       "      <td>13461/wannafly</td>\n",
       "      <td>online</td>\n",
       "      <td>B</td>\n",
       "    </tr>\n",
       "    <tr>\n",
       "      <th>56468</th>\n",
       "      <td>91</td>\n",
       "      <td>22/3/19</td>\n",
       "      <td>Lucid Dream (16)</td>\n",
       "      <td>NASR (9)</td>\n",
       "      <td>nuke</td>\n",
       "      <td>23 - 11</td>\n",
       "      <td>12</td>\n",
       "      <td>1.60</td>\n",
       "      <td>NaN</td>\n",
       "      <td>NaN</td>\n",
       "      <td>13461/wannafly</td>\n",
       "      <td>online</td>\n",
       "      <td>B</td>\n",
       "    </tr>\n",
       "    <tr>\n",
       "      <th>56469</th>\n",
       "      <td>92</td>\n",
       "      <td>22/3/19</td>\n",
       "      <td>Lucid Dream (8)</td>\n",
       "      <td>NASR (16)</td>\n",
       "      <td>ovp</td>\n",
       "      <td>9 - 17</td>\n",
       "      <td>-8</td>\n",
       "      <td>0.79</td>\n",
       "      <td>NaN</td>\n",
       "      <td>NaN</td>\n",
       "      <td>13461/wannafly</td>\n",
       "      <td>online</td>\n",
       "      <td>B</td>\n",
       "    </tr>\n",
       "    <tr>\n",
       "      <th>56470</th>\n",
       "      <td>93</td>\n",
       "      <td>22/3/19</td>\n",
       "      <td>Lucid Dream (16)</td>\n",
       "      <td>Entity (1)</td>\n",
       "      <td>mrg</td>\n",
       "      <td>13 - 5</td>\n",
       "      <td>8</td>\n",
       "      <td>1.23</td>\n",
       "      <td>NaN</td>\n",
       "      <td>NaN</td>\n",
       "      <td>13461/wannafly</td>\n",
       "      <td>online</td>\n",
       "      <td>B</td>\n",
       "    </tr>\n",
       "    <tr>\n",
       "      <th>56471</th>\n",
       "      <td>94</td>\n",
       "      <td>22/3/19</td>\n",
       "      <td>Lucid Dream (16)</td>\n",
       "      <td>Entity (5)</td>\n",
       "      <td>nuke</td>\n",
       "      <td>18 - 11</td>\n",
       "      <td>7</td>\n",
       "      <td>1.54</td>\n",
       "      <td>NaN</td>\n",
       "      <td>NaN</td>\n",
       "      <td>13461/wannafly</td>\n",
       "      <td>online</td>\n",
       "      <td>B</td>\n",
       "    </tr>\n",
       "  </tbody>\n",
       "</table>\n",
       "<p>56472 rows × 13 columns</p>\n",
       "</div>"
      ],
      "text/plain": [
       "       Unnamed: 0     Date       Player team      Opponent    T1       T2  \\\n",
       "0               0   5/9/19     Vitality (10)  AVANGAR (16)    d2  20 - 17   \n",
       "1               1   5/9/19     Vitality (16)  AVANGAR (11)   inf  28 - 12   \n",
       "2               2   5/9/19      Vitality (9)  AVANGAR (16)   mrg  12 - 18   \n",
       "3               3  31/8/19     Vitality (16)     MOUZ (10)   mrg  21 - 17   \n",
       "4               4  31/8/19     Vitality (16)      MOUZ (5)   vtg  19 - 12   \n",
       "...           ...      ...               ...           ...   ...      ...   \n",
       "56467          90  22/3/19  Lucid Dream (16)      NASR (1)    d2    9 - 8   \n",
       "56468          91  22/3/19  Lucid Dream (16)      NASR (9)  nuke  23 - 11   \n",
       "56469          92  22/3/19   Lucid Dream (8)     NASR (16)   ovp   9 - 17   \n",
       "56470          93  22/3/19  Lucid Dream (16)    Entity (1)   mrg   13 - 5   \n",
       "56471          94  22/3/19  Lucid Dream (16)    Entity (5)  nuke  18 - 11   \n",
       "\n",
       "       Map  K - D  +/-  Rating2.0          player event_type event_tier  \n",
       "0        3   1.04  NaN        NaN     11893/zywoo      major          S  \n",
       "1       16   1.63  NaN        NaN     11893/zywoo      major          S  \n",
       "2       -6   0.90  NaN        NaN     11893/zywoo      major          S  \n",
       "3        4   1.52  NaN        NaN     11893/zywoo      major          S  \n",
       "4        7   1.44  NaN        NaN     11893/zywoo      major          S  \n",
       "...    ...    ...  ...        ...             ...        ...        ...  \n",
       "56467    1   1.17  NaN        NaN  13461/wannafly     online          B  \n",
       "56468   12   1.60  NaN        NaN  13461/wannafly     online          B  \n",
       "56469   -8   0.79  NaN        NaN  13461/wannafly     online          B  \n",
       "56470    8   1.23  NaN        NaN  13461/wannafly     online          B  \n",
       "56471    7   1.54  NaN        NaN  13461/wannafly     online          B  \n",
       "\n",
       "[56472 rows x 13 columns]"
      ]
     },
     "execution_count": 278,
     "metadata": {},
     "output_type": "execute_result"
    }
   ],
   "source": [
    "players_stats_raw = pd.read_csv('data/players_stats_raw.csv',sep = ';')\n",
    "players_stats_raw"
   ]
  },
  {
   "cell_type": "markdown",
   "metadata": {},
   "source": [
    "## Collumns names"
   ]
  },
  {
   "cell_type": "code",
   "execution_count": 250,
   "metadata": {},
   "outputs": [],
   "source": [
    "players_stats.columns = players_stats.columns.str.lower()"
   ]
  },
  {
   "cell_type": "code",
   "execution_count": 251,
   "metadata": {},
   "outputs": [
    {
     "data": {
      "text/html": [
       "<div>\n",
       "<style scoped>\n",
       "    .dataframe tbody tr th:only-of-type {\n",
       "        vertical-align: middle;\n",
       "    }\n",
       "\n",
       "    .dataframe tbody tr th {\n",
       "        vertical-align: top;\n",
       "    }\n",
       "\n",
       "    .dataframe thead th {\n",
       "        text-align: right;\n",
       "    }\n",
       "</style>\n",
       "<table border=\"1\" class=\"dataframe\">\n",
       "  <thead>\n",
       "    <tr style=\"text-align: right;\">\n",
       "      <th></th>\n",
       "      <th>date</th>\n",
       "      <th>player team</th>\n",
       "      <th>opponent</th>\n",
       "      <th>t1</th>\n",
       "      <th>t2</th>\n",
       "      <th>map</th>\n",
       "      <th>k - d</th>\n",
       "      <th>+/-</th>\n",
       "      <th>rating2.0</th>\n",
       "      <th>player</th>\n",
       "      <th>event_type</th>\n",
       "      <th>event_tier</th>\n",
       "    </tr>\n",
       "  </thead>\n",
       "  <tbody>\n",
       "    <tr>\n",
       "      <th>0</th>\n",
       "      <td>5/9/19</td>\n",
       "      <td>Vitality (10)</td>\n",
       "      <td>AVANGAR (16)</td>\n",
       "      <td>d2</td>\n",
       "      <td>20 - 17</td>\n",
       "      <td>3</td>\n",
       "      <td>1.04</td>\n",
       "      <td>NaN</td>\n",
       "      <td>NaN</td>\n",
       "      <td>11893/zywoo</td>\n",
       "      <td>major</td>\n",
       "      <td>S</td>\n",
       "    </tr>\n",
       "    <tr>\n",
       "      <th>1</th>\n",
       "      <td>5/9/19</td>\n",
       "      <td>Vitality (16)</td>\n",
       "      <td>AVANGAR (11)</td>\n",
       "      <td>inf</td>\n",
       "      <td>28 - 12</td>\n",
       "      <td>16</td>\n",
       "      <td>1.63</td>\n",
       "      <td>NaN</td>\n",
       "      <td>NaN</td>\n",
       "      <td>11893/zywoo</td>\n",
       "      <td>major</td>\n",
       "      <td>S</td>\n",
       "    </tr>\n",
       "    <tr>\n",
       "      <th>2</th>\n",
       "      <td>5/9/19</td>\n",
       "      <td>Vitality (9)</td>\n",
       "      <td>AVANGAR (16)</td>\n",
       "      <td>mrg</td>\n",
       "      <td>12 - 18</td>\n",
       "      <td>-6</td>\n",
       "      <td>0.90</td>\n",
       "      <td>NaN</td>\n",
       "      <td>NaN</td>\n",
       "      <td>11893/zywoo</td>\n",
       "      <td>major</td>\n",
       "      <td>S</td>\n",
       "    </tr>\n",
       "    <tr>\n",
       "      <th>3</th>\n",
       "      <td>31/8/19</td>\n",
       "      <td>Vitality (16)</td>\n",
       "      <td>MOUZ (10)</td>\n",
       "      <td>mrg</td>\n",
       "      <td>21 - 17</td>\n",
       "      <td>4</td>\n",
       "      <td>1.52</td>\n",
       "      <td>NaN</td>\n",
       "      <td>NaN</td>\n",
       "      <td>11893/zywoo</td>\n",
       "      <td>major</td>\n",
       "      <td>S</td>\n",
       "    </tr>\n",
       "    <tr>\n",
       "      <th>4</th>\n",
       "      <td>31/8/19</td>\n",
       "      <td>Vitality (16)</td>\n",
       "      <td>MOUZ (5)</td>\n",
       "      <td>vtg</td>\n",
       "      <td>19 - 12</td>\n",
       "      <td>7</td>\n",
       "      <td>1.44</td>\n",
       "      <td>NaN</td>\n",
       "      <td>NaN</td>\n",
       "      <td>11893/zywoo</td>\n",
       "      <td>major</td>\n",
       "      <td>S</td>\n",
       "    </tr>\n",
       "    <tr>\n",
       "      <th>...</th>\n",
       "      <td>...</td>\n",
       "      <td>...</td>\n",
       "      <td>...</td>\n",
       "      <td>...</td>\n",
       "      <td>...</td>\n",
       "      <td>...</td>\n",
       "      <td>...</td>\n",
       "      <td>...</td>\n",
       "      <td>...</td>\n",
       "      <td>...</td>\n",
       "      <td>...</td>\n",
       "      <td>...</td>\n",
       "    </tr>\n",
       "    <tr>\n",
       "      <th>56467</th>\n",
       "      <td>22/3/19</td>\n",
       "      <td>Lucid Dream (16)</td>\n",
       "      <td>NASR (1)</td>\n",
       "      <td>d2</td>\n",
       "      <td>9 - 8</td>\n",
       "      <td>1</td>\n",
       "      <td>1.17</td>\n",
       "      <td>NaN</td>\n",
       "      <td>NaN</td>\n",
       "      <td>13461/wannafly</td>\n",
       "      <td>online</td>\n",
       "      <td>B</td>\n",
       "    </tr>\n",
       "    <tr>\n",
       "      <th>56468</th>\n",
       "      <td>22/3/19</td>\n",
       "      <td>Lucid Dream (16)</td>\n",
       "      <td>NASR (9)</td>\n",
       "      <td>nuke</td>\n",
       "      <td>23 - 11</td>\n",
       "      <td>12</td>\n",
       "      <td>1.60</td>\n",
       "      <td>NaN</td>\n",
       "      <td>NaN</td>\n",
       "      <td>13461/wannafly</td>\n",
       "      <td>online</td>\n",
       "      <td>B</td>\n",
       "    </tr>\n",
       "    <tr>\n",
       "      <th>56469</th>\n",
       "      <td>22/3/19</td>\n",
       "      <td>Lucid Dream (8)</td>\n",
       "      <td>NASR (16)</td>\n",
       "      <td>ovp</td>\n",
       "      <td>9 - 17</td>\n",
       "      <td>-8</td>\n",
       "      <td>0.79</td>\n",
       "      <td>NaN</td>\n",
       "      <td>NaN</td>\n",
       "      <td>13461/wannafly</td>\n",
       "      <td>online</td>\n",
       "      <td>B</td>\n",
       "    </tr>\n",
       "    <tr>\n",
       "      <th>56470</th>\n",
       "      <td>22/3/19</td>\n",
       "      <td>Lucid Dream (16)</td>\n",
       "      <td>Entity (1)</td>\n",
       "      <td>mrg</td>\n",
       "      <td>13 - 5</td>\n",
       "      <td>8</td>\n",
       "      <td>1.23</td>\n",
       "      <td>NaN</td>\n",
       "      <td>NaN</td>\n",
       "      <td>13461/wannafly</td>\n",
       "      <td>online</td>\n",
       "      <td>B</td>\n",
       "    </tr>\n",
       "    <tr>\n",
       "      <th>56471</th>\n",
       "      <td>22/3/19</td>\n",
       "      <td>Lucid Dream (16)</td>\n",
       "      <td>Entity (5)</td>\n",
       "      <td>nuke</td>\n",
       "      <td>18 - 11</td>\n",
       "      <td>7</td>\n",
       "      <td>1.54</td>\n",
       "      <td>NaN</td>\n",
       "      <td>NaN</td>\n",
       "      <td>13461/wannafly</td>\n",
       "      <td>online</td>\n",
       "      <td>B</td>\n",
       "    </tr>\n",
       "  </tbody>\n",
       "</table>\n",
       "<p>56472 rows × 12 columns</p>\n",
       "</div>"
      ],
      "text/plain": [
       "          date       player team      opponent    t1       t2  map  k - d  \\\n",
       "0       5/9/19     Vitality (10)  AVANGAR (16)    d2  20 - 17    3   1.04   \n",
       "1       5/9/19     Vitality (16)  AVANGAR (11)   inf  28 - 12   16   1.63   \n",
       "2       5/9/19      Vitality (9)  AVANGAR (16)   mrg  12 - 18   -6   0.90   \n",
       "3      31/8/19     Vitality (16)     MOUZ (10)   mrg  21 - 17    4   1.52   \n",
       "4      31/8/19     Vitality (16)      MOUZ (5)   vtg  19 - 12    7   1.44   \n",
       "...        ...               ...           ...   ...      ...  ...    ...   \n",
       "56467  22/3/19  Lucid Dream (16)      NASR (1)    d2    9 - 8    1   1.17   \n",
       "56468  22/3/19  Lucid Dream (16)      NASR (9)  nuke  23 - 11   12   1.60   \n",
       "56469  22/3/19   Lucid Dream (8)     NASR (16)   ovp   9 - 17   -8   0.79   \n",
       "56470  22/3/19  Lucid Dream (16)    Entity (1)   mrg   13 - 5    8   1.23   \n",
       "56471  22/3/19  Lucid Dream (16)    Entity (5)  nuke  18 - 11    7   1.54   \n",
       "\n",
       "       +/-  rating2.0          player event_type event_tier  \n",
       "0      NaN        NaN     11893/zywoo      major          S  \n",
       "1      NaN        NaN     11893/zywoo      major          S  \n",
       "2      NaN        NaN     11893/zywoo      major          S  \n",
       "3      NaN        NaN     11893/zywoo      major          S  \n",
       "4      NaN        NaN     11893/zywoo      major          S  \n",
       "...    ...        ...             ...        ...        ...  \n",
       "56467  NaN        NaN  13461/wannafly     online          B  \n",
       "56468  NaN        NaN  13461/wannafly     online          B  \n",
       "56469  NaN        NaN  13461/wannafly     online          B  \n",
       "56470  NaN        NaN  13461/wannafly     online          B  \n",
       "56471  NaN        NaN  13461/wannafly     online          B  \n",
       "\n",
       "[56472 rows x 12 columns]"
      ]
     },
     "execution_count": 251,
     "metadata": {},
     "output_type": "execute_result"
    }
   ],
   "source": [
    "players_stats"
   ]
  },
  {
   "cell_type": "markdown",
   "metadata": {},
   "source": [
    "## Genaral cleaning"
   ]
  },
  {
   "cell_type": "code",
   "execution_count": 252,
   "metadata": {},
   "outputs": [],
   "source": [
    "players_stats[['player_team','s1']] = players_stats['player team'].str.split('(',1,expand=True)\n",
    "players_stats[['opponent','s2']] = players_stats['opponent'].str.split('(',1,expand=True)\n",
    "players_stats[['id','player']] = players_stats['player'].str.split('/',1,expand=True)\n",
    "players_stats['map'] = players_stats['t1']\n",
    "players_stats['rating2.0'] = players_stats['k - d']\n",
    "players_stats.drop(['player team','t1','t2','k - d','+/-'],axis = 1, inplace = True)"
   ]
  },
  {
   "cell_type": "markdown",
   "metadata": {},
   "source": [
    "## Rearange collumns"
   ]
  },
  {
   "cell_type": "code",
   "execution_count": 253,
   "metadata": {},
   "outputs": [],
   "source": [
    "players_stats = players_stats[['id','player','player_team','s1','opponent','s2','rating2.0','map','date','event_type','event_tier']]"
   ]
  },
  {
   "cell_type": "code",
   "execution_count": 254,
   "metadata": {},
   "outputs": [
    {
     "name": "stdout",
     "output_type": "stream",
     "text": [
      "id              object\n",
      "player          object\n",
      "player_team     object\n",
      "s1              object\n",
      "opponent        object\n",
      "s2              object\n",
      "rating2.0      float64\n",
      "map             object\n",
      "date            object\n",
      "event_type      object\n",
      "event_tier      object\n",
      "dtype: object\n"
     ]
    },
    {
     "data": {
      "text/html": [
       "<div>\n",
       "<style scoped>\n",
       "    .dataframe tbody tr th:only-of-type {\n",
       "        vertical-align: middle;\n",
       "    }\n",
       "\n",
       "    .dataframe tbody tr th {\n",
       "        vertical-align: top;\n",
       "    }\n",
       "\n",
       "    .dataframe thead th {\n",
       "        text-align: right;\n",
       "    }\n",
       "</style>\n",
       "<table border=\"1\" class=\"dataframe\">\n",
       "  <thead>\n",
       "    <tr style=\"text-align: right;\">\n",
       "      <th></th>\n",
       "      <th>id</th>\n",
       "      <th>player</th>\n",
       "      <th>player_team</th>\n",
       "      <th>s1</th>\n",
       "      <th>opponent</th>\n",
       "      <th>s2</th>\n",
       "      <th>rating2.0</th>\n",
       "      <th>map</th>\n",
       "      <th>date</th>\n",
       "      <th>event_type</th>\n",
       "      <th>event_tier</th>\n",
       "    </tr>\n",
       "  </thead>\n",
       "  <tbody>\n",
       "    <tr>\n",
       "      <th>0</th>\n",
       "      <td>11893</td>\n",
       "      <td>zywoo</td>\n",
       "      <td>Vitality</td>\n",
       "      <td>10)</td>\n",
       "      <td>AVANGAR</td>\n",
       "      <td>16)</td>\n",
       "      <td>1.04</td>\n",
       "      <td>d2</td>\n",
       "      <td>5/9/19</td>\n",
       "      <td>major</td>\n",
       "      <td>S</td>\n",
       "    </tr>\n",
       "    <tr>\n",
       "      <th>1</th>\n",
       "      <td>11893</td>\n",
       "      <td>zywoo</td>\n",
       "      <td>Vitality</td>\n",
       "      <td>16)</td>\n",
       "      <td>AVANGAR</td>\n",
       "      <td>11)</td>\n",
       "      <td>1.63</td>\n",
       "      <td>inf</td>\n",
       "      <td>5/9/19</td>\n",
       "      <td>major</td>\n",
       "      <td>S</td>\n",
       "    </tr>\n",
       "    <tr>\n",
       "      <th>2</th>\n",
       "      <td>11893</td>\n",
       "      <td>zywoo</td>\n",
       "      <td>Vitality</td>\n",
       "      <td>9)</td>\n",
       "      <td>AVANGAR</td>\n",
       "      <td>16)</td>\n",
       "      <td>0.90</td>\n",
       "      <td>mrg</td>\n",
       "      <td>5/9/19</td>\n",
       "      <td>major</td>\n",
       "      <td>S</td>\n",
       "    </tr>\n",
       "    <tr>\n",
       "      <th>3</th>\n",
       "      <td>11893</td>\n",
       "      <td>zywoo</td>\n",
       "      <td>Vitality</td>\n",
       "      <td>16)</td>\n",
       "      <td>MOUZ</td>\n",
       "      <td>10)</td>\n",
       "      <td>1.52</td>\n",
       "      <td>mrg</td>\n",
       "      <td>31/8/19</td>\n",
       "      <td>major</td>\n",
       "      <td>S</td>\n",
       "    </tr>\n",
       "    <tr>\n",
       "      <th>4</th>\n",
       "      <td>11893</td>\n",
       "      <td>zywoo</td>\n",
       "      <td>Vitality</td>\n",
       "      <td>16)</td>\n",
       "      <td>MOUZ</td>\n",
       "      <td>5)</td>\n",
       "      <td>1.44</td>\n",
       "      <td>vtg</td>\n",
       "      <td>31/8/19</td>\n",
       "      <td>major</td>\n",
       "      <td>S</td>\n",
       "    </tr>\n",
       "  </tbody>\n",
       "</table>\n",
       "</div>"
      ],
      "text/plain": [
       "      id player player_team   s1  opponent   s2  rating2.0  map     date  \\\n",
       "0  11893  zywoo   Vitality   10)  AVANGAR   16)       1.04   d2   5/9/19   \n",
       "1  11893  zywoo   Vitality   16)  AVANGAR   11)       1.63  inf   5/9/19   \n",
       "2  11893  zywoo   Vitality    9)  AVANGAR   16)       0.90  mrg   5/9/19   \n",
       "3  11893  zywoo   Vitality   16)     MOUZ   10)       1.52  mrg  31/8/19   \n",
       "4  11893  zywoo   Vitality   16)     MOUZ    5)       1.44  vtg  31/8/19   \n",
       "\n",
       "  event_type event_tier  \n",
       "0      major          S  \n",
       "1      major          S  \n",
       "2      major          S  \n",
       "3      major          S  \n",
       "4      major          S  "
      ]
     },
     "execution_count": 254,
     "metadata": {},
     "output_type": "execute_result"
    }
   ],
   "source": [
    "print(players_stats.dtypes)\n",
    "players_stats.head()"
   ]
  },
  {
   "cell_type": "markdown",
   "metadata": {},
   "source": [
    "## Clean S1 and S2 collumns"
   ]
  },
  {
   "cell_type": "markdown",
   "metadata": {},
   "source": [
    "### remove ')'"
   ]
  },
  {
   "cell_type": "code",
   "execution_count": 255,
   "metadata": {},
   "outputs": [],
   "source": [
    "players_stats['s1'] = players_stats['s1'].str[:-1]\n",
    "players_stats['s2'] = players_stats['s2'].str[:-1]"
   ]
  },
  {
   "cell_type": "markdown",
   "metadata": {},
   "source": [
    "## change type"
   ]
  },
  {
   "cell_type": "code",
   "execution_count": 256,
   "metadata": {},
   "outputs": [],
   "source": [
    "players_stats = players_stats.astype({'s1':int,'s2':int})\n",
    "players_stats['date'] = pd.to_datetime(players_stats['date'])"
   ]
  },
  {
   "cell_type": "markdown",
   "metadata": {},
   "source": [
    "## Clean str collumns"
   ]
  },
  {
   "cell_type": "code",
   "execution_count": 257,
   "metadata": {},
   "outputs": [],
   "source": [
    "players_stats['player_team']=players_stats['player_team'].str.strip()\n",
    "players_stats['opponent']=players_stats['opponent'].str.strip()\n",
    "players_stats['map']=players_stats['map'].str.strip()\n",
    "players_stats['event_type']=players_stats['event_type'].str.strip()\n",
    "players_stats['event_tier']=players_stats['event_tier'].str.strip()\n"
   ]
  },
  {
   "cell_type": "markdown",
   "metadata": {},
   "source": [
    "# Data cleaning ranking"
   ]
  },
  {
   "cell_type": "markdown",
   "metadata": {},
   "source": [
    "## Import"
   ]
  },
  {
   "cell_type": "code",
   "execution_count": 258,
   "metadata": {},
   "outputs": [],
   "source": [
    "team_rank = pd.read_csv('data/team_rankings.csv',sep = ';')"
   ]
  },
  {
   "cell_type": "markdown",
   "metadata": {},
   "source": [
    "## Rename"
   ]
  },
  {
   "cell_type": "code",
   "execution_count": 259,
   "metadata": {},
   "outputs": [],
   "source": [
    "team_rank.rename(columns={'Unnamed: 0':'rank'},inplace=True)"
   ]
  },
  {
   "cell_type": "markdown",
   "metadata": {},
   "source": [
    "# Date"
   ]
  },
  {
   "cell_type": "code",
   "execution_count": 260,
   "metadata": {},
   "outputs": [],
   "source": [
    "team_rank = team_rank[team_rank['date']!='2019/september/31'] # Sep 31 doesnt exist\n",
    "team_rank['date'] = pd.to_datetime(team_rank['date'])"
   ]
  },
  {
   "cell_type": "markdown",
   "metadata": {},
   "source": [
    "# Joining both DataFrames"
   ]
  },
  {
   "cell_type": "code",
   "execution_count": 261,
   "metadata": {},
   "outputs": [],
   "source": [
    "def rank_time(x,y):\n",
    "    if len(team_rank[(team_rank['teams'] == x) & (team_rank['date'] < y)].tail(1)['rank']) == 1:\n",
    "        return int(team_rank[(team_rank['teams'] == x) & (team_rank['date'] < y)].tail(1)['rank']+1)"
   ]
  },
  {
   "cell_type": "code",
   "execution_count": 262,
   "metadata": {},
   "outputs": [],
   "source": [
    "players_stats['team_rank'] = players_stats.apply(lambda x : rank_time(x['player_team'],x['date']),axis=1)\n",
    "players_stats['opponent_rank'] = players_stats.apply(lambda x : rank_time(x['opponent'],x['date']),axis=1)"
   ]
  },
  {
   "cell_type": "markdown",
   "metadata": {},
   "source": [
    "## Fill na with 35, for non ranking teams"
   ]
  },
  {
   "cell_type": "code",
   "execution_count": 263,
   "metadata": {},
   "outputs": [],
   "source": [
    "players_stats [['team_rank','opponent_rank']] = players_stats [['team_rank','opponent_rank']].fillna(35)"
   ]
  },
  {
   "cell_type": "markdown",
   "metadata": {},
   "source": [
    "## Rank difference"
   ]
  },
  {
   "cell_type": "code",
   "execution_count": 264,
   "metadata": {},
   "outputs": [],
   "source": [
    "players_stats['rank_difference'] = players_stats['team_rank'] - players_stats['opponent_rank']"
   ]
  },
  {
   "cell_type": "markdown",
   "metadata": {},
   "source": [
    "## Favorite or Underdog"
   ]
  },
  {
   "cell_type": "code",
   "execution_count": 265,
   "metadata": {},
   "outputs": [],
   "source": [
    "players_stats['favorite'] = players_stats['rank_difference'] < 0"
   ]
  },
  {
   "cell_type": "markdown",
   "metadata": {},
   "source": [
    "## Round difference"
   ]
  },
  {
   "cell_type": "code",
   "execution_count": 266,
   "metadata": {},
   "outputs": [],
   "source": [
    "players_stats['round_difference'] = players_stats['s1'] - players_stats['s2']"
   ]
  },
  {
   "cell_type": "markdown",
   "metadata": {},
   "source": [
    "## Win"
   ]
  },
  {
   "cell_type": "code",
   "execution_count": 267,
   "metadata": {},
   "outputs": [],
   "source": [
    "players_stats['win'] = players_stats['round_difference'] > 0"
   ]
  },
  {
   "cell_type": "markdown",
   "metadata": {},
   "source": [
    "## Team ratting"
   ]
  },
  {
   "cell_type": "code",
   "execution_count": 268,
   "metadata": {},
   "outputs": [],
   "source": [
    "stats = list()\n",
    "for player in list(players_stats['player'].unique()):\n",
    "    rating_groupby = players_stats.query(f'player !=\"{player}\"').groupby(by=['date','player_team','opponent','map']).mean().rename({'rating2.0':'team_rating'},axis=1)\n",
    "    stats.append(pd.merge(players_stats.query(f'player == \"{player}\"'),rating_groupby['team_rating'],left_on=['date','player_team','opponent','map'],right_on=['date','player_team','opponent','map']))"
   ]
  },
  {
   "cell_type": "code",
   "execution_count": 269,
   "metadata": {},
   "outputs": [],
   "source": [
    "players_stats = pd.concat(stats)"
   ]
  },
  {
   "cell_type": "markdown",
   "metadata": {},
   "source": [
    "# Remove duplicates"
   ]
  },
  {
   "cell_type": "code",
   "execution_count": 289,
   "metadata": {},
   "outputs": [],
   "source": [
    "players_stats = players_stats.drop_duplicates(['id','player','player_team','s1','opponent','s2','rating2.0','map','date'],keep='first')"
   ]
  },
  {
   "cell_type": "markdown",
   "metadata": {},
   "source": [
    "# Export to csv"
   ]
  },
  {
   "cell_type": "code",
   "execution_count": 290,
   "metadata": {},
   "outputs": [],
   "source": [
    "players_stats.to_csv('data/players_stats.csv',sep = ';',index = False)"
   ]
  }
 ],
 "metadata": {
  "kernelspec": {
   "display_name": "Python 3.9.12 ('base')",
   "language": "python",
   "name": "python3"
  },
  "language_info": {
   "codemirror_mode": {
    "name": "ipython",
    "version": 3
   },
   "file_extension": ".py",
   "mimetype": "text/x-python",
   "name": "python",
   "nbconvert_exporter": "python",
   "pygments_lexer": "ipython3",
   "version": "3.9.12"
  },
  "orig_nbformat": 4,
  "vscode": {
   "interpreter": {
    "hash": "1e41d4e4325ce7342a00e57a53d955cd4d4808c2e7826870199a24ef7be9659b"
   }
  }
 },
 "nbformat": 4,
 "nbformat_minor": 2
}
